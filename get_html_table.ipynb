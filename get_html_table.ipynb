{
 "cells": [
  {
   "cell_type": "code",
   "execution_count": 3,
   "id": "41a0b78b",
   "metadata": {},
   "outputs": [],
   "source": [
    "import markdown\n",
    "import json"
   ]
  },
  {
   "cell_type": "code",
   "execution_count": 4,
   "id": "6f7457be",
   "metadata": {},
   "outputs": [],
   "source": [
    "with open('/Users/handsomexu/Desktop/OmniDocBench/OtherDataset/OtherDataset.json','r',encoding='utf-8') as f:\n",
    "    data = json.load(f)"
   ]
  },
  {
   "cell_type": "code",
   "execution_count": 16,
   "id": "13bf0934",
   "metadata": {},
   "outputs": [
    {
     "name": "stdout",
     "output_type": "stream",
     "text": [
      "\n",
      "| Method                    | # | EPFL         | HCI (new)    | HCI (old)    | INRIA        | Stanford     | ALL          |\n",
      "|---------------------------|---|--------------|--------------|--------------|--------------|--------------|--------------|\n",
      "| CA ( $N = 4$ ) + RecNet   | 4 | 35.52/0.9556 | 33.06/0.8796 | 40.10/0.9654 | 36.89/0.9471 | 31.39/0.9254 | 35.39/0.9346 |\n",
      "| CA ( $N = 2$ ) + RecNet   | 2 | 34.06/0.9455 | 31.98/0.8599 | 38.82/0.9546 | 35.84/0.9414 | 29.76/0.9037 | 34.09/0.9210 |\n",
      "| CA ( $N = 1$ ) + RecNet   | 1 | 27.78/0.8654 | 26.61/0.7251 | 31.31/0.8352 | 29.40/0.8915 | 22.99/0.7522 | 27.62/0.8139 |\n",
      "| Full-4D + RecNet          | 1 | 32.91/0.9336 | 31.26/0.8371 | 37.90/0.9434 | 34.88/0.9345 | 29.16/0.8895 | 33.22/0.9076 |\n",
      "| JAEC ( $N = 4$ ) + RecNet | 1 | 31.84/0.9195 | 30.05/0.8078 | 36.28/0.9213 | 33.36/0.9256 | 27.80/0.8569 | 31.97/0.8862 |\n",
      "| JAEC ( $N = 4$ ) [28]     | 1 | 30.38/0.9263 | 28.87/0.7732 | 34.96/0.8293 | 33.17/0.9685 | 26.14/0.8473 | 30.70/0.8689 |\n",
      "| LA + RecNet               | 1 | 24.26/0.6843 | 26.17/0.6714 | 30.81/0.7978 | 25.85/0.7628 | 24.03/0.6926 | 26.22/0.7218 |\n",
      "| LA (naive)                | 1 | 22.25/0.5820 | 24.75/0.6050 | 28.65/0.7157 | 23.71/0.6829 | 22.42/0.5934 | 24.36/0.6358 |\n",
      "\n"
     ]
    }
   ],
   "source": [
    "md = ''\n",
    "\n",
    "for item in data:\n",
    "    # print(item.keys())\n",
    "    # print(item['page_info'])\n",
    "    for block in item['layout_dets']:\n",
    "        # print(block.keys())\n",
    "        if block['category_type'] == \"table\":\n",
    "            print(block['html'])\n",
    "            md = block['html']\n",
    "            break"
   ]
  },
  {
   "cell_type": "code",
   "execution_count": 19,
   "id": "f8c5c8e6",
   "metadata": {},
   "outputs": [
    {
     "data": {
      "text/plain": [
       "'| Method                    | # | EPFL         | HCI (new)    | HCI (old)    | INRIA        | Stanford     | ALL          |\\n|---------------------------|---|--------------|--------------|--------------|--------------|--------------|--------------|\\n| CA ( $N = 4$ ) + RecNet   | 4 | 35.52/0.9556 | 33.06/0.8796 | 40.10/0.9654 | 36.89/0.9471 | 31.39/0.9254 | 35.39/0.9346 |\\n| CA ( $N = 2$ ) + RecNet   | 2 | 34.06/0.9455 | 31.98/0.8599 | 38.82/0.9546 | 35.84/0.9414 | 29.76/0.9037 | 34.09/0.9210 |\\n| CA ( $N = 1$ ) + RecNet   | 1 | 27.78/0.8654 | 26.61/0.7251 | 31.31/0.8352 | 29.40/0.8915 | 22.99/0.7522 | 27.62/0.8139 |\\n| Full-4D + RecNet          | 1 | 32.91/0.9336 | 31.26/0.8371 | 37.90/0.9434 | 34.88/0.9345 | 29.16/0.8895 | 33.22/0.9076 |\\n| JAEC ( $N = 4$ ) + RecNet | 1 | 31.84/0.9195 | 30.05/0.8078 | 36.28/0.9213 | 33.36/0.9256 | 27.80/0.8569 | 31.97/0.8862 |\\n| JAEC ( $N = 4$ ) [28]     | 1 | 30.38/0.9263 | 28.87/0.7732 | 34.96/0.8293 | 33.17/0.9685 | 26.14/0.8473 | 30.70/0.8689 |\\n| LA + RecNet               | 1 | 24.26/0.6843 | 26.17/0.6714 | 30.81/0.7978 | 25.85/0.7628 | 24.03/0.6926 | 26.22/0.7218 |\\n| LA (naive)                | 1 | 22.25/0.5820 | 24.75/0.6050 | 28.65/0.7157 | 23.71/0.6829 | 22.42/0.5934 | 24.36/0.6358 |'"
      ]
     },
     "execution_count": 19,
     "metadata": {},
     "output_type": "execute_result"
    }
   ],
   "source": [
    "md = md.strip()\n",
    "md"
   ]
  },
  {
   "cell_type": "code",
   "execution_count": 20,
   "id": "96c5b924",
   "metadata": {},
   "outputs": [],
   "source": [
    "html = markdown.markdown(md, extensions=[\"tables\"])"
   ]
  },
  {
   "cell_type": "code",
   "execution_count": 21,
   "id": "80e62e7c",
   "metadata": {},
   "outputs": [
    {
     "data": {
      "text/plain": [
       "'<table>\\n<thead>\\n<tr>\\n<th>Method</th>\\n<th>#</th>\\n<th>EPFL</th>\\n<th>HCI (new)</th>\\n<th>HCI (old)</th>\\n<th>INRIA</th>\\n<th>Stanford</th>\\n<th>ALL</th>\\n</tr>\\n</thead>\\n<tbody>\\n<tr>\\n<td>CA ( $N = 4$ ) + RecNet</td>\\n<td>4</td>\\n<td>35.52/0.9556</td>\\n<td>33.06/0.8796</td>\\n<td>40.10/0.9654</td>\\n<td>36.89/0.9471</td>\\n<td>31.39/0.9254</td>\\n<td>35.39/0.9346</td>\\n</tr>\\n<tr>\\n<td>CA ( $N = 2$ ) + RecNet</td>\\n<td>2</td>\\n<td>34.06/0.9455</td>\\n<td>31.98/0.8599</td>\\n<td>38.82/0.9546</td>\\n<td>35.84/0.9414</td>\\n<td>29.76/0.9037</td>\\n<td>34.09/0.9210</td>\\n</tr>\\n<tr>\\n<td>CA ( $N = 1$ ) + RecNet</td>\\n<td>1</td>\\n<td>27.78/0.8654</td>\\n<td>26.61/0.7251</td>\\n<td>31.31/0.8352</td>\\n<td>29.40/0.8915</td>\\n<td>22.99/0.7522</td>\\n<td>27.62/0.8139</td>\\n</tr>\\n<tr>\\n<td>Full-4D + RecNet</td>\\n<td>1</td>\\n<td>32.91/0.9336</td>\\n<td>31.26/0.8371</td>\\n<td>37.90/0.9434</td>\\n<td>34.88/0.9345</td>\\n<td>29.16/0.8895</td>\\n<td>33.22/0.9076</td>\\n</tr>\\n<tr>\\n<td>JAEC ( $N = 4$ ) + RecNet</td>\\n<td>1</td>\\n<td>31.84/0.9195</td>\\n<td>30.05/0.8078</td>\\n<td>36.28/0.9213</td>\\n<td>33.36/0.9256</td>\\n<td>27.80/0.8569</td>\\n<td>31.97/0.8862</td>\\n</tr>\\n<tr>\\n<td>JAEC ( $N = 4$ ) [28]</td>\\n<td>1</td>\\n<td>30.38/0.9263</td>\\n<td>28.87/0.7732</td>\\n<td>34.96/0.8293</td>\\n<td>33.17/0.9685</td>\\n<td>26.14/0.8473</td>\\n<td>30.70/0.8689</td>\\n</tr>\\n<tr>\\n<td>LA + RecNet</td>\\n<td>1</td>\\n<td>24.26/0.6843</td>\\n<td>26.17/0.6714</td>\\n<td>30.81/0.7978</td>\\n<td>25.85/0.7628</td>\\n<td>24.03/0.6926</td>\\n<td>26.22/0.7218</td>\\n</tr>\\n<tr>\\n<td>LA (naive)</td>\\n<td>1</td>\\n<td>22.25/0.5820</td>\\n<td>24.75/0.6050</td>\\n<td>28.65/0.7157</td>\\n<td>23.71/0.6829</td>\\n<td>22.42/0.5934</td>\\n<td>24.36/0.6358</td>\\n</tr>\\n</tbody>\\n</table>'"
      ]
     },
     "execution_count": 21,
     "metadata": {},
     "output_type": "execute_result"
    }
   ],
   "source": [
    "html"
   ]
  },
  {
   "cell_type": "code",
   "execution_count": 22,
   "id": "c69c9df7",
   "metadata": {},
   "outputs": [],
   "source": [
    "import json\n",
    "import markdown\n",
    "\n",
    "# 打开 JSON 文件读取数据\n",
    "with open('/Users/handsomexu/Desktop/OmniDocBench/OtherDataset/OtherDataset.json', 'r', encoding='utf-8') as f:\n",
    "    data = json.load(f)\n",
    "\n",
    "# 处理每个条目的表格数据\n",
    "for item in data:\n",
    "    for block in item['layout_dets']:\n",
    "        if block['category_type'] == \"table\":\n",
    "            # 提取并转换 Markdown 表格为 HTML\n",
    "            md = block['html'].strip()\n",
    "            block['html'] = markdown.markdown(md, extensions=[\"tables\"])\n",
    "\n",
    "# 将处理后的数据写回原 JSON 文件\n",
    "with open('/Users/handsomexu/Desktop/OmniDocBench/OtherDataset/OtherDataset.json', 'w', encoding='utf-8') as f:\n",
    "    json.dump(data, f, ensure_ascii=False, indent=4)\n"
   ]
  },
  {
   "cell_type": "code",
   "execution_count": 1,
   "id": "3ba08f1c",
   "metadata": {},
   "outputs": [],
   "source": [
    "# \"category_type\": \"isolate_formula\" 改为 \"category_type\": \"equation_isolated\""
   ]
  },
  {
   "cell_type": "code",
   "execution_count": 3,
   "id": "5e6fe948",
   "metadata": {},
   "outputs": [],
   "source": [
    "import json\n",
    "import markdown\n",
    "\n",
    "# 打开 JSON 文件读取数据\n",
    "with open('/Users/handsomexu/Desktop/OmniDocBench/OtherDataset/OtherDataset.json', 'r', encoding='utf-8') as f:\n",
    "    data = json.load(f)\n",
    "\n",
    "# 处理每个条目的表格数据\n",
    "for item in data:\n",
    "    for block in item['layout_dets']:\n",
    "        block['order'] = int(block['order'])\n",
    "        # if block['category_type'] == \"table\":\n",
    "            # 提取并转换 Markdown 表格为 HTML\n",
    "            # md = block['html'].strip()\n",
    "            # block['html'] = markdown.markdown(md, extensions=[\"tables\"])\n",
    "\n",
    "# 将处理后的数据写回原 JSON 文件\n",
    "with open('/Users/handsomexu/Desktop/OmniDocBench/OtherDataset/OtherDataset.json', 'w', encoding='utf-8') as f:\n",
    "    json.dump(data, f, ensure_ascii=False, indent=4)"
   ]
  },
  {
   "cell_type": "code",
   "execution_count": 5,
   "id": "c329a402",
   "metadata": {},
   "outputs": [],
   "source": [
    "import json\n",
    "\n",
    "# 打开 JSON 文件读取数据\n",
    "with open('/Users/handsomexu/Desktop/OmniDocBench/OtherDataset/OtherDataset.json', 'r', encoding='utf-8') as f:\n",
    "    data = json.load(f)\n",
    "\n",
    "# 处理每个条目的表格数据\n",
    "for item in data:\n",
    "    for block in item['layout_dets']:\n",
    "        if block.get('category_type') == \"equation_isolated\":\n",
    "            # 如果存在 text，就改成 latex\n",
    "            if 'text' in block:\n",
    "                block['latex'] = block['text']   # 新建 latex 键\n",
    "                del block['text']                # 删除原来的 text 键\n",
    "\n",
    "# 将处理后的数据写回原 JSON 文件\n",
    "with open('/Users/handsomexu/Desktop/OmniDocBench/OtherDataset/OtherDataset.json', 'w', encoding='utf-8') as f:\n",
    "    json.dump(data, f, ensure_ascii=False, indent=4)\n"
   ]
  },
  {
   "cell_type": "code",
   "execution_count": 2,
   "id": "f11baaa5",
   "metadata": {},
   "outputs": [
    {
     "data": {
      "text/plain": [
       "497"
      ]
     },
     "execution_count": 2,
     "metadata": {},
     "output_type": "execute_result"
    }
   ],
   "source": [
    "import os\n",
    "len(os.listdir('/Users/bytedance/Project/OmniDocBench/OursDataset/jsons'))"
   ]
  },
  {
   "cell_type": "code",
   "execution_count": null,
   "id": "55a854f5",
   "metadata": {},
   "outputs": [],
   "source": []
  }
 ],
 "metadata": {
  "kernelspec": {
   "display_name": "omnidocbench",
   "language": "python",
   "name": "python3"
  },
  "language_info": {
   "codemirror_mode": {
    "name": "ipython",
    "version": 3
   },
   "file_extension": ".py",
   "mimetype": "text/x-python",
   "name": "python",
   "nbconvert_exporter": "python",
   "pygments_lexer": "ipython3",
   "version": "3.12.11"
  }
 },
 "nbformat": 4,
 "nbformat_minor": 5
}
