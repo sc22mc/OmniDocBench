{
 "cells": [
  {
   "cell_type": "code",
   "execution_count": 18,
   "id": "359c9bb5",
   "metadata": {},
   "outputs": [],
   "source": [
    "import os\n",
    "import re"
   ]
  },
  {
   "cell_type": "code",
   "execution_count": 23,
   "id": "57780bce",
   "metadata": {},
   "outputs": [],
   "source": [
    "\n",
    "\n",
    "pattern = re.compile(r\"^#+\\s*abstract\", re.IGNORECASE)\n",
    "\n",
    "for i in range(1, 101):\n",
    "    path = f\"C:\\\\Users\\\\serap\\\\Desktop\\\\fixed_data\\\\{i}\\\\{i}-markdown\"\n",
    "    if not os.path.exists(path):  # 跳过不存在的目录\n",
    "        continue\n",
    "\n",
    "    files = [f for f in os.listdir(path) if f.endswith(\".md\")]\n",
    "    if not files:  # 没有 md 文件就跳过\n",
    "        continue\n",
    "\n",
    "    md_file = files[0]\n",
    "    md_file_path = os.path.join(path, md_file)\n",
    "\n",
    "    with open(md_file_path, \"r\", encoding=\"utf-8\") as f:\n",
    "        for idx, line in enumerate(f, start=1):\n",
    "            if pattern.search(line.strip()):\n",
    "                print(f\"number:{i} // {md_file} 第 {idx} 行匹配到 Abstract 标题: {line.strip()}\")\n"
   ]
  },
  {
   "cell_type": "code",
   "execution_count": null,
   "id": "28ebed1c",
   "metadata": {},
   "outputs": [],
   "source": []
  }
 ],
 "metadata": {
  "kernelspec": {
   "display_name": "Python 3",
   "language": "python",
   "name": "python3"
  },
  "language_info": {
   "codemirror_mode": {
    "name": "ipython",
    "version": 3
   },
   "file_extension": ".py",
   "mimetype": "text/x-python",
   "name": "python",
   "nbconvert_exporter": "python",
   "pygments_lexer": "ipython3",
   "version": "3.12.4"
  }
 },
 "nbformat": 4,
 "nbformat_minor": 5
}
