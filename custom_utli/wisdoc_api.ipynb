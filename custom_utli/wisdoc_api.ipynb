{
 "cells": [
  {
   "cell_type": "code",
   "execution_count": null,
   "id": "90c16d0e",
   "metadata": {},
   "outputs": [],
   "source": [
    "import os\n",
    "import time\n",
    "import requests\n",
    "import json\n",
    "from concurrent.futures import ThreadPoolExecutor, as_completed\n",
    "from tqdm import tqdm\n",
    "\n",
    "API_BASE = \"http://wisdoc-rs-dev.atominnolab.com/api/v2\"\n",
    "\n",
    "def upload_file(file_path):\n",
    "    \"\"\"上传文件并获取 JOB_ID\"\"\"\n",
    "    print(f\"提交文件: {file_path}\")\n",
    "    url = f\"{API_BASE}/documents\"\n",
    "    with open(file_path, \"rb\") as f:\n",
    "        files = {\"file\": f}\n",
    "        resp = requests.post(url, files=files)\n",
    "        resp.raise_for_status()\n",
    "        res = resp.json()\n",
    "        return res.get(\"job_id\") or res.get(\"JOB_ID\")\n",
    "\n",
    "def check_status(job_id, interval=1):\n",
    "    \"\"\"轮询 JOB 状态直到完成，返回 RESULT_FILE_PATH\"\"\"\n",
    "    url = f\"{API_BASE}/documents/{job_id}\"\n",
    "    while True:\n",
    "        resp = requests.get(url)\n",
    "        resp.raise_for_status()\n",
    "        res = resp.json()\n",
    "        status = res.get(\"status\")\n",
    "        if status == \"completed\":\n",
    "            return res.get(\"result_file_path\")\n",
    "        elif status == \"failed\":\n",
    "            raise RuntimeError(f\"Job {job_id} failed\")\n",
    "        time.sleep(interval)\n",
    "\n",
    "def fetch_result(result_file_path):\n",
    "    \"\"\"获取解析结果\"\"\"\n",
    "    url = f\"{API_BASE}/files/{result_file_path}\"\n",
    "    resp = requests.get(url)\n",
    "    resp.raise_for_status()\n",
    "    return resp.text\n",
    "\n",
    "def process_file(file_path, output_folder):\n",
    "    \"\"\"处理单个文件：上传 → 等待完成 → 获取结果 → 存文件\"\"\"\n",
    "    job_id = upload_file(file_path)\n",
    "    result_file_path = check_status(job_id)\n",
    "    result = fetch_result(result_file_path)\n",
    "\n",
    "    base_name = os.path.splitext(os.path.basename(file_path))[0]\n",
    "    output_path = os.path.join(output_folder, f\"{base_name}.json\")\n",
    "    with open(output_path, \"w\", encoding=\"utf-8\") as f:\n",
    "        json_data = json.loads(result)\n",
    "        json.dump(json_data, f, ensure_ascii=False, indent=2)\n",
    "\n",
    "    print(f\"完成: {file_path} → {output_path}\")\n",
    "    return output_path\n",
    "\n",
    "def get_results(folder_path, output_folder, max_workers=5):\n",
    "    \"\"\"并发处理文件夹内所有 PDF 文件\"\"\"\n",
    "    os.makedirs(output_folder, exist_ok=True)\n",
    "    files = [os.path.join(folder_path, f) for f in os.listdir(folder_path) if int(f[:-4]) >= 57]\n",
    "\n",
    "    results = []\n",
    "    with ThreadPoolExecutor(max_workers=max_workers) as executor:\n",
    "        futures = {executor.submit(process_file, f, output_folder): f for f in files}\n",
    "        # 使用tqdm添加进度条\n",
    "        for future in tqdm(as_completed(futures), total=len(futures), desc=\"处理进度\"):\n",
    "            try:\n",
    "                results.append(future.result())\n",
    "            except Exception as e:\n",
    "                print(f\"文件 {futures[future]} 处理失败: {e}\")\n",
    "    return results\n"
   ]
  },
  {
   "cell_type": "code",
   "execution_count": null,
   "id": "7d9b8abb",
   "metadata": {},
   "outputs": [],
   "source": [
    "if __name__ == \"__main__\":\n",
    "    input_folder = \"/Users/bytedance/Project/OmniDocBench/OursDataset/pdfs\"\n",
    "    output_folder = \"/Users/bytedance/Project/OmniDocBench/Models_ouput/wisdoc_output\"\n",
    "\n",
    "    results = get_results(input_folder, output_folder, max_workers=5)\n",
    "    print(\"所有文件处理完成，结果存储在：\", output_folder)\n"
   ]
  },
  {
   "cell_type": "code",
   "execution_count": null,
   "id": "e44e0385",
   "metadata": {},
   "outputs": [],
   "source": [
    "data_dir = \"/Users/bytedance/Project/MinerU/wisdoc_output\"\n",
    "\n",
    "\n",
    "\n"
   ]
  },
  {
   "cell_type": "code",
   "execution_count": 1,
   "id": "bd2a6449",
   "metadata": {},
   "outputs": [],
   "source": [
    "import collections\n",
    "import json\n",
    "import os\n",
    "output_path = \"/Users/bytedance/Project/OmniDocBench/Models_ouput/wisdoc_results_md/\"\n",
    "def process_json(json_path):\n",
    "\n",
    "    with open(json_path, 'r') as f:\n",
    "        data = json.load(f)\n",
    "\n",
    "    doc_num = int(json_path.split('/')[-1].split('.')[0])\n",
    "    \n",
    "    \n",
    "    data = data['tree']\n",
    "\n",
    "    paged_data = {}\n",
    "\n",
    "    for item in data:\n",
    "        if item['type'] == 'IMAGE':\n",
    "            continue\n",
    "        page_no = item['page_no']\n",
    "        \n",
    "        if item['type'] == 'FORMULA':\n",
    "            item['text'] = f\"$$\\n{item['text']}\\n$$\"\n",
    "\n",
    "        paged_data.setdefault(page_no, []).append(item)\n",
    "\n",
    "    for page_no, items in paged_data.items():\n",
    "        text = '\\n\\n'.join([item['text'] for item in items])\n",
    "\n",
    "        with open(os.path.join(output_path, f\"{doc_num:03d}_{page_no+1:02d}.md\"), \"w\", encoding=\"utf-8\") as f:\n",
    "            f.write(text)\n"
   ]
  },
  {
   "cell_type": "code",
   "execution_count": 2,
   "id": "9c968c54",
   "metadata": {},
   "outputs": [],
   "source": [
    "# d = process_json('/Users/bytedance/Project/OmniDocBench/Models_ouput/wisdoc_output/pdf_json/57.json')\n",
    "\n",
    "path = '/Users/bytedance/Project/OmniDocBench/Models_ouput/wisdoc_output/pdf_json'\n",
    "for f in  os.listdir(path):\n",
    "    process_json(os.path.join(path, f))\n",
    "\n"
   ]
  },
  {
   "cell_type": "code",
   "execution_count": null,
   "id": "afcf80ea",
   "metadata": {},
   "outputs": [],
   "source": [
    "print(d[0])"
   ]
  },
  {
   "cell_type": "code",
   "execution_count": null,
   "id": "f9b9c2b9",
   "metadata": {},
   "outputs": [],
   "source": [
    "with open(\"/Users/bytedance/Project/MinerU/wisdoc_output/demo2.json\", \"r\", encoding=\"utf-8\") as f:\n",
    "    json_data = json.load(f)"
   ]
  },
  {
   "cell_type": "code",
   "execution_count": 3,
   "id": "6a18bc9f",
   "metadata": {},
   "outputs": [
    {
     "ename": "ModuleNotFoundError",
     "evalue": "No module named 'pylatexenc'",
     "output_type": "error",
     "traceback": [
      "\u001b[31m---------------------------------------------------------------------------\u001b[39m",
      "\u001b[31mModuleNotFoundError\u001b[39m                       Traceback (most recent call last)",
      "\u001b[36mCell\u001b[39m\u001b[36m \u001b[39m\u001b[32mIn[3]\u001b[39m\u001b[32m, line 1\u001b[39m\n\u001b[32m----> \u001b[39m\u001b[32m1\u001b[39m \u001b[38;5;28;01mfrom\u001b[39;00m\u001b[38;5;250m \u001b[39m\u001b[34;01mpylatexenc\u001b[39;00m\u001b[34;01m.\u001b[39;00m\u001b[34;01mlatex2text\u001b[39;00m\u001b[38;5;250m \u001b[39m\u001b[38;5;28;01mimport\u001b[39;00m LatexNodes2Text\n\u001b[32m      2\u001b[39m \u001b[38;5;28;01mfrom\u001b[39;00m\u001b[38;5;250m \u001b[39m\u001b[34;01mbs4\u001b[39;00m\u001b[38;5;250m \u001b[39m\u001b[38;5;28;01mimport\u001b[39;00m BeautifulSoup\n\u001b[32m      4\u001b[39m \u001b[38;5;28;01mdef\u001b[39;00m\u001b[38;5;250m \u001b[39m\u001b[34mlatex_table_to_html\u001b[39m(latex_table):\n\u001b[32m      5\u001b[39m     \u001b[38;5;66;03m# 转换LaTeX到文本（包含基本HTML结构）\u001b[39;00m\n",
      "\u001b[31mModuleNotFoundError\u001b[39m: No module named 'pylatexenc'"
     ]
    }
   ],
   "source": [
    "from pylatexenc.latex2text import LatexNodes2Text\n",
    "from bs4 import BeautifulSoup\n",
    "\n",
    "def latex_table_to_html(latex_table):\n",
    "    # 转换LaTeX到文本（包含基本HTML结构）\n",
    "    text_converter = LatexNodes2Text()\n",
    "    html_output = text_converter.latex_to_text(latex_table)\n",
    "    \n",
    "    # 美化HTML（可选）\n",
    "    soup = BeautifulSoup(html_output, 'html.parser')\n",
    "    return soup.prettify()\n",
    "\n",
    "# 示例LaTeX表格\n",
    "latex_table = r\"\"\"\n",
    "\\begin{tabular}{|c|c|c|}\n",
    "    \\hline\n",
    "    姓名 & 年龄 & 城市 \\\\\n",
    "    \\hline\n",
    "    Alice & 25 & 北京 \\\\\n",
    "    \\hline\n",
    "    Bob & 30 & 上海 \\\\\n",
    "    \\hline\n",
    "\\end{tabular}\n",
    "\"\"\"\n",
    "\n",
    "# 转换并打印结果\n",
    "html_result = latex_table_to_html(latex_table)\n",
    "print(html_result)\n",
    "    "
   ]
  },
  {
   "cell_type": "code",
   "execution_count": null,
   "id": "99a5c51b",
   "metadata": {},
   "outputs": [],
   "source": []
  }
 ],
 "metadata": {
  "kernelspec": {
   "display_name": "MinerU",
   "language": "python",
   "name": "python3"
  },
  "language_info": {
   "codemirror_mode": {
    "name": "ipython",
    "version": 3
   },
   "file_extension": ".py",
   "mimetype": "text/x-python",
   "name": "python",
   "nbconvert_exporter": "python",
   "pygments_lexer": "ipython3",
   "version": "3.12.11"
  }
 },
 "nbformat": 4,
 "nbformat_minor": 5
}
