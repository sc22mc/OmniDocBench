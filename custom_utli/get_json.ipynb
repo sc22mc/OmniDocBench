{
 "cells": [
  {
   "cell_type": "code",
   "execution_count": 3,
   "id": "8cbced78",
   "metadata": {},
   "outputs": [],
   "source": [
    "import json"
   ]
  },
  {
   "cell_type": "code",
   "execution_count": 4,
   "id": "9f1b1ca7",
   "metadata": {},
   "outputs": [],
   "source": [
    "# scihub_j.conbuildmat.2019.117698.pdf_5.jpg\n",
    "with open('/Users/handsomexu/Desktop/OmniDocBench/OmniDocBench/OmniDocBench.json','r',encoding='utf-8') as f:\n",
    "    data = json.load(f)"
   ]
  },
  {
   "cell_type": "code",
   "execution_count": 5,
   "id": "e8e12dd3",
   "metadata": {},
   "outputs": [
    {
     "name": "stdout",
     "output_type": "stream",
     "text": [
      "已写入 /Users/handsomexu/Desktop/OmniDocBench/OmniDocBench/OmniDocBench_table.json\n"
     ]
    }
   ],
   "source": [
    "import json\n",
    "\n",
    "# 遍历 data\n",
    "for item in data:\n",
    "    if item['page_info']['image_path'] == 'docstructbench_llm-raw-scihub-o.O-ceat.200600410.pdf_8.jpg':\n",
    "        # 目标 JSON 文件路径\n",
    "        json_path = '/Users/handsomexu/Desktop/OmniDocBench/OmniDocBench/OmniDocBench_table.json'\n",
    "        \n",
    "        # 先尝试读取已有内容（保证它是 list）\n",
    "        try:\n",
    "            with open(json_path, 'r', encoding='utf-8') as f:\n",
    "                content = json.load(f)\n",
    "            if not isinstance(content, list):\n",
    "                raise ValueError(\"目标 JSON 文件内容不是列表！\")\n",
    "        except FileNotFoundError:\n",
    "            content = []  # 如果文件不存在，就新建一个空列表\n",
    "        \n",
    "        # 追加 item\n",
    "        content.append(item)\n",
    "        \n",
    "        # 写回 JSON 文件\n",
    "        with open(json_path, 'w', encoding='utf-8') as f:\n",
    "            json.dump(content, f, ensure_ascii=False, indent=2)\n",
    "\n",
    "        print(f\"已写入 {json_path}\")\n"
   ]
  },
  {
   "cell_type": "code",
   "execution_count": 9,
   "id": "5267ac59",
   "metadata": {},
   "outputs": [
    {
     "data": {
      "text/plain": [
       "dict_keys(['page_attribute', 'page_no', 'height', 'width', 'image_path'])"
      ]
     },
     "execution_count": 9,
     "metadata": {},
     "output_type": "execute_result"
    }
   ],
   "source": [
    "data[0]['page_info'].keys()"
   ]
  },
  {
   "cell_type": "code",
   "execution_count": 2,
   "id": "94efb1e0",
   "metadata": {},
   "outputs": [
    {
     "name": "stdout",
     "output_type": "stream",
     "text": [
      "\\[t_1\\]\\[r=\\frac{\\left(\\frac{r}{224}\\right)\\left\\{\\int_{t_0}^{t_1}\\left(|NO|_{0}-|NO|\\right)\\mathrm{d}t+\\int_{t_0}^{t_1}\\left(|NO|_{0}-|NO_2|\\right)\\mathrm{d}t\\right\\}}{AT}\\tag{7}\\]\n"
     ]
    }
   ],
   "source": [
    "print(\"\\\\[t_1\\\\]\\\\[r=\\\\frac{\\\\left(\\\\frac{r}{224}\\\\right)\\\\left\\\\{\\\\int_{t_0}^{t_1}\\\\left(|NO|_{0}-|NO|\\\\right)\\\\mathrm{d}t+\\\\int_{t_0}^{t_1}\\\\left(|NO|_{0}-|NO_2|\\\\right)\\\\mathrm{d}t\\\\right\\\\}}{AT}\\\\tag{7}\\\\]\")"
   ]
  },
  {
   "cell_type": "code",
   "execution_count": null,
   "id": "7097d112",
   "metadata": {},
   "outputs": [],
   "source": [
    "docstructbench_llm-raw-scihub-o.O-ceat.200600410.pdf_8.jpg"
   ]
  }
 ],
 "metadata": {
  "kernelspec": {
   "display_name": "omnidocbench",
   "language": "python",
   "name": "python3"
  },
  "language_info": {
   "codemirror_mode": {
    "name": "ipython",
    "version": 3
   },
   "file_extension": ".py",
   "mimetype": "text/x-python",
   "name": "python",
   "nbconvert_exporter": "python",
   "pygments_lexer": "ipython3",
   "version": "3.10.18"
  }
 },
 "nbformat": 4,
 "nbformat_minor": 5
}
